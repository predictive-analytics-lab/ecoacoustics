{
 "cells": [
  {
   "cell_type": "code",
   "execution_count": 3,
   "id": "b99837db",
   "metadata": {
    "scrolled": true,
    "pycharm": {
     "name": "#%%\n"
    }
   },
   "outputs": [
    {
     "name": "stdout",
     "output_type": "stream",
     "text": [
      "Note: you may need to restart the kernel to use updated packages.\n",
      "Note: you may need to restart the kernel to use updated packages.\n"
     ]
    }
   ],
   "source": [
    "%poetry install"
   ]
  },
  {
   "cell_type": "code",
   "execution_count": 4,
   "id": "c03d8eec",
   "metadata": {
    "pycharm": {
     "name": "#%%\n"
    }
   },
   "outputs": [],
   "source": [
    "import os\n",
    "import torch\n",
    "from conduit.data.datamodules.audio import EcoacousticsDataModule\n",
    "import numpy as np\n",
    "from tqdm import tqdm"
   ]
  },
  {
   "cell_type": "code",
   "execution_count": 5,
   "id": "411ec49d",
   "metadata": {
    "pycharm": {
     "name": "#%%\n"
    }
   },
   "outputs": [
    {
     "name": "stderr",
     "output_type": "stream",
     "text": [
      "Preprocessing: 100%|██████████| 4725/4725 [06:43<00:00, 11.72it/s]\n"
     ]
    },
    {
     "ename": "NameError",
     "evalue": "name 'dm' is not defined",
     "output_type": "error",
     "traceback": [
      "\u001B[0;31m---------------------------------------------------------------------------\u001B[0m",
      "\u001B[0;31mNameError\u001B[0m                                 Traceback (most recent call last)",
      "\u001B[0;32m/tmp/ipykernel_26433/152975636.py\u001B[0m in \u001B[0;36m<module>\u001B[0;34m\u001B[0m\n\u001B[1;32m      4\u001B[0m \u001B[0mdm_test\u001B[0m\u001B[0;34m.\u001B[0m\u001B[0msetup\u001B[0m\u001B[0;34m(\u001B[0m\u001B[0;34m)\u001B[0m\u001B[0;34m\u001B[0m\u001B[0;34m\u001B[0m\u001B[0m\n\u001B[1;32m      5\u001B[0m \u001B[0;34m\u001B[0m\u001B[0m\n\u001B[0;32m----> 6\u001B[0;31m \u001B[0mprint\u001B[0m\u001B[0;34m(\u001B[0m\u001B[0;34mf'The train/test/validation split of the dataset is:\\n  {dm.num_train_samples}/{dm.num_test_samples}/{dm.num_val_samples}.'\u001B[0m\u001B[0;34m)\u001B[0m\u001B[0;34m\u001B[0m\u001B[0;34m\u001B[0m\u001B[0m\n\u001B[0m",
      "\u001B[0;31mNameError\u001B[0m: name 'dm' is not defined"
     ]
    }
   ],
   "source": [
    "# Initialise a datamodule for testing.\n",
    "dm = EcoacousticsDataModule(os.getcwd(), specgram_segment_len=1, test_prop=0, val_prop=0)\n",
    "dm.prepare_data()\n",
    "dm.setup()\n",
    "\n",
    "print(f'The train/test/validation split of the dataset is:\\n  {dm.num_train_samples}/{dm.num_test_samples}/{dm.num_val_samples}.')"
   ]
  },
  {
   "cell_type": "code",
   "execution_count": null,
   "id": "078c572c",
   "metadata": {
    "pycharm": {
     "name": "#%%\n"
    }
   },
   "outputs": [],
   "source": [
    "# Get data loader, all data.\n",
    "data_loader = dm.train_dataloader()\n",
    "\n",
    "device = torch.device(\"cuda:0\" if torch.cuda.is_available() else \"cpu\")\n",
    "\n",
    "# Define model.\n",
    "model = torch.hub.load('DavidHurst/torchvggish', 'vggish', preprocess=False, device=device, postprocess=False)"
   ]
  },
  {
   "cell_type": "code",
   "execution_count": 21,
   "id": "436d14b9",
   "metadata": {
    "pycharm": {
     "name": "#%%\n"
    }
   },
   "outputs": [
    {
     "name": "stderr",
     "output_type": "stream",
     "text": [
      "/home/jupyter-dh361/.conda/envs/py39/lib/python3.9/site-packages/torch/nn/functional.py:718: UserWarning: Named tensors and all their associated APIs are an experimental feature and subject to change. Please do not use them for anything important until they are released as stable. (Triggered internally at  /pytorch/c10/core/TensorImpl.h:1156.)\n",
      "  return torch.max_pool2d(input, kernel_size, stride, padding, dilation, ceil_mode)\n"
     ]
    },
    {
     "data": {
      "text/plain": [
       "[0.0,\n",
       " 0.07927325367927551,\n",
       " 0.011299043893814087,\n",
       " 0.0,\n",
       " 0.1595710664987564,\n",
       " 0.0,\n",
       " 0.0,\n",
       " 0.0,\n",
       " 0.0,\n",
       " 0.0,\n",
       " 0.0,\n",
       " 0.0,\n",
       " 0.06970303505659103,\n",
       " 0.0,\n",
       " 0.0,\n",
       " 0.0,\n",
       " 0.44224411249160767,\n",
       " 0.7334898114204407,\n",
       " 0.0,\n",
       " 0.0,\n",
       " 0.07785462588071823,\n",
       " 0.0,\n",
       " 0.31827208399772644,\n",
       " 0.0,\n",
       " 0.0,\n",
       " 0.3516514301300049,\n",
       " 0.0,\n",
       " 0.0,\n",
       " 0.036944977939128876,\n",
       " 0.0,\n",
       " 0.0,\n",
       " 0.0,\n",
       " 0.01710173860192299,\n",
       " 0.6177687644958496,\n",
       " 0.22510936856269836,\n",
       " 0.0,\n",
       " 0.0,\n",
       " 0.0,\n",
       " 0.0,\n",
       " 0.0,\n",
       " 0.26850426197052,\n",
       " 0.055747613310813904,\n",
       " 0.17067159712314606,\n",
       " 0.0,\n",
       " 0.2938618063926697,\n",
       " 0.018003001809120178,\n",
       " 0.49658018350601196,\n",
       " 0.5558068156242371,\n",
       " 0.06958745419979095,\n",
       " 0.8070802688598633,\n",
       " 0.0,\n",
       " 0.0,\n",
       " 0.0,\n",
       " 0.0,\n",
       " 0.07821950316429138,\n",
       " 0.0,\n",
       " 0.0,\n",
       " 0.0,\n",
       " 0.27052170038223267,\n",
       " 0.0,\n",
       " 0.0,\n",
       " 0.0,\n",
       " 0.0,\n",
       " 0.0,\n",
       " 0.0,\n",
       " 0.0,\n",
       " 0.0,\n",
       " 0.6215654611587524,\n",
       " 0.0,\n",
       " 0.0,\n",
       " 0.0,\n",
       " 0.0,\n",
       " 0.0,\n",
       " 0.0,\n",
       " 0.07778072357177734,\n",
       " 0.13471922278404236,\n",
       " 0.0,\n",
       " 0.8342320919036865,\n",
       " 0.6003782749176025,\n",
       " 0.0,\n",
       " 0.02056216448545456,\n",
       " 0.5084384679794312,\n",
       " 0.0,\n",
       " 0.0,\n",
       " 0.40204834938049316,\n",
       " 0.18389630317687988,\n",
       " 0.07470634579658508,\n",
       " 0.2719183564186096,\n",
       " 0.0,\n",
       " 0.9816508293151855,\n",
       " 0.0,\n",
       " 0.0035059750080108643,\n",
       " 0.0,\n",
       " 0.2422741949558258,\n",
       " 0.06400486826896667,\n",
       " 0.7362682223320007,\n",
       " 0.0,\n",
       " 0.0,\n",
       " 0.0,\n",
       " 0.0,\n",
       " 0.0,\n",
       " 0.22105586528778076,\n",
       " 0.0,\n",
       " 0.2507999539375305,\n",
       " 0.0,\n",
       " 0.0,\n",
       " 0.6098835468292236,\n",
       " 0.0,\n",
       " 0.7031937837600708,\n",
       " 0.0,\n",
       " 0.0,\n",
       " 0.0,\n",
       " 0.12104760855436325,\n",
       " 0.0,\n",
       " 0.0,\n",
       " 0.0,\n",
       " 0.16820910573005676,\n",
       " 0.0,\n",
       " 0.0,\n",
       " 0.15807941555976868,\n",
       " 0.0,\n",
       " 0.0,\n",
       " 0.0,\n",
       " 0.0,\n",
       " 0.003758475184440613,\n",
       " 0.0,\n",
       " 0.0,\n",
       " 0.03826326131820679]"
      ]
     },
     "execution_count": 21,
     "metadata": {},
     "output_type": "execute_result"
    }
   ],
   "source": [
    "# Test loop.\n",
    "model.eval()\n",
    "preds = []\n",
    "for data in enumerate(data_loader):\n",
    "        x = data.x.to(device)\n",
    "        y = model(x)\n",
    "        preds += y.detach.cpu().numpy()\n",
    "\n"
   ]
  }
 ],
 "metadata": {
  "kernelspec": {
   "display_name": "py39",
   "language": "python",
   "name": "py39"
  },
  "language_info": {
   "codemirror_mode": {
    "name": "ipython",
    "version": 3
   },
   "file_extension": ".py",
   "mimetype": "text/x-python",
   "name": "python",
   "nbconvert_exporter": "python",
   "pygments_lexer": "ipython3",
   "version": "3.9.6"
  }
 },
 "nbformat": 4,
 "nbformat_minor": 5
}